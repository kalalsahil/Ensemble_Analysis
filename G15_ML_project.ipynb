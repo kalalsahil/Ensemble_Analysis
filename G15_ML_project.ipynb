{
  "cells": [
    {
      "cell_type": "code",
      "execution_count": 22,
      "id": "9db3b161",
      "metadata": {
        "execution": {
          "iopub.execute_input": "2023-08-23T14:08:30.919630Z",
          "iopub.status.busy": "2023-08-23T14:08:30.919051Z",
          "iopub.status.idle": "2023-08-23T14:08:32.807500Z",
          "shell.execute_reply": "2023-08-23T14:08:32.806204Z"
        },
        "id": "9db3b161",
        "papermill": {
          "duration": 1.914866,
          "end_time": "2023-08-23T14:08:32.810503",
          "exception": false,
          "start_time": "2023-08-23T14:08:30.895637",
          "status": "completed"
        },
        "tags": []
      },
      "outputs": [],
      "source": [
        "import warnings\n",
        "warnings.filterwarnings('ignore')\n",
        "\n",
        "import pandas as pd\n",
        "import numpy as np\n",
        "\n",
        "# Import necessary libraries\n",
        "import matplotlib.pyplot as plt\n",
        "import seaborn as sns\n",
        "\n",
        "# Import necessary libraries for 3D plotting\n",
        "from mpl_toolkits.mplot3d import Axes3D\n",
        "from sklearn.preprocessing import LabelEncoder"
      ]
    },
    {
      "cell_type": "code",
      "execution_count": 23,
      "id": "11a7c5f3",
      "metadata": {
        "colab": {
          "base_uri": "https://localhost:8080/",
          "height": 399
        },
        "execution": {
          "iopub.execute_input": "2023-08-23T14:08:32.853221Z",
          "iopub.status.busy": "2023-08-23T14:08:32.852696Z",
          "iopub.status.idle": "2023-08-23T14:08:34.677647Z",
          "shell.execute_reply": "2023-08-23T14:08:34.676355Z"
        },
        "id": "11a7c5f3",
        "outputId": "116f6429-25a3-4019-e8c5-0d925a8d0cd8",
        "papermill": {
          "duration": 1.85024,
          "end_time": "2023-08-23T14:08:34.681923",
          "exception": false,
          "start_time": "2023-08-23T14:08:32.831683",
          "status": "completed"
        },
        "tags": []
      },
      "outputs": [
        {
          "data": {
            "text/html": [
              "<div>\n",
              "<style scoped>\n",
              "    .dataframe tbody tr th:only-of-type {\n",
              "        vertical-align: middle;\n",
              "    }\n",
              "\n",
              "    .dataframe tbody tr th {\n",
              "        vertical-align: top;\n",
              "    }\n",
              "\n",
              "    .dataframe thead th {\n",
              "        text-align: right;\n",
              "    }\n",
              "</style>\n",
              "<table border=\"1\" class=\"dataframe\">\n",
              "  <thead>\n",
              "    <tr style=\"text-align: right;\">\n",
              "      <th></th>\n",
              "      <th>General_Health</th>\n",
              "      <th>Checkup</th>\n",
              "      <th>Exercise</th>\n",
              "      <th>Heart_Disease</th>\n",
              "      <th>Skin_Cancer</th>\n",
              "      <th>Other_Cancer</th>\n",
              "      <th>Depression</th>\n",
              "      <th>Diabetes</th>\n",
              "      <th>Arthritis</th>\n",
              "      <th>Sex</th>\n",
              "      <th>Age_Category</th>\n",
              "      <th>Height_(cm)</th>\n",
              "      <th>Weight_(kg)</th>\n",
              "      <th>BMI</th>\n",
              "      <th>Smoking_History</th>\n",
              "      <th>Alcohol_Consumption</th>\n",
              "      <th>Fruit_Consumption</th>\n",
              "      <th>Green_Vegetables_Consumption</th>\n",
              "      <th>FriedPotato_Consumption</th>\n",
              "    </tr>\n",
              "  </thead>\n",
              "  <tbody>\n",
              "    <tr>\n",
              "      <th>0</th>\n",
              "      <td>Poor</td>\n",
              "      <td>Within the past 2 years</td>\n",
              "      <td>No</td>\n",
              "      <td>No</td>\n",
              "      <td>No</td>\n",
              "      <td>No</td>\n",
              "      <td>No</td>\n",
              "      <td>No</td>\n",
              "      <td>Yes</td>\n",
              "      <td>Female</td>\n",
              "      <td>70-74</td>\n",
              "      <td>150.0</td>\n",
              "      <td>32.66</td>\n",
              "      <td>14.54</td>\n",
              "      <td>Yes</td>\n",
              "      <td>0.0</td>\n",
              "      <td>30.0</td>\n",
              "      <td>16.0</td>\n",
              "      <td>12.0</td>\n",
              "    </tr>\n",
              "    <tr>\n",
              "      <th>1</th>\n",
              "      <td>Very Good</td>\n",
              "      <td>Within the past year</td>\n",
              "      <td>No</td>\n",
              "      <td>Yes</td>\n",
              "      <td>No</td>\n",
              "      <td>No</td>\n",
              "      <td>No</td>\n",
              "      <td>Yes</td>\n",
              "      <td>No</td>\n",
              "      <td>Female</td>\n",
              "      <td>70-74</td>\n",
              "      <td>165.0</td>\n",
              "      <td>77.11</td>\n",
              "      <td>28.29</td>\n",
              "      <td>No</td>\n",
              "      <td>0.0</td>\n",
              "      <td>30.0</td>\n",
              "      <td>0.0</td>\n",
              "      <td>4.0</td>\n",
              "    </tr>\n",
              "    <tr>\n",
              "      <th>2</th>\n",
              "      <td>Very Good</td>\n",
              "      <td>Within the past year</td>\n",
              "      <td>Yes</td>\n",
              "      <td>No</td>\n",
              "      <td>No</td>\n",
              "      <td>No</td>\n",
              "      <td>No</td>\n",
              "      <td>Yes</td>\n",
              "      <td>No</td>\n",
              "      <td>Female</td>\n",
              "      <td>60-64</td>\n",
              "      <td>163.0</td>\n",
              "      <td>88.45</td>\n",
              "      <td>33.47</td>\n",
              "      <td>No</td>\n",
              "      <td>4.0</td>\n",
              "      <td>12.0</td>\n",
              "      <td>3.0</td>\n",
              "      <td>16.0</td>\n",
              "    </tr>\n",
              "    <tr>\n",
              "      <th>3</th>\n",
              "      <td>Poor</td>\n",
              "      <td>Within the past year</td>\n",
              "      <td>Yes</td>\n",
              "      <td>Yes</td>\n",
              "      <td>No</td>\n",
              "      <td>No</td>\n",
              "      <td>No</td>\n",
              "      <td>Yes</td>\n",
              "      <td>No</td>\n",
              "      <td>Male</td>\n",
              "      <td>75-79</td>\n",
              "      <td>180.0</td>\n",
              "      <td>93.44</td>\n",
              "      <td>28.73</td>\n",
              "      <td>No</td>\n",
              "      <td>0.0</td>\n",
              "      <td>30.0</td>\n",
              "      <td>30.0</td>\n",
              "      <td>8.0</td>\n",
              "    </tr>\n",
              "    <tr>\n",
              "      <th>4</th>\n",
              "      <td>Good</td>\n",
              "      <td>Within the past year</td>\n",
              "      <td>No</td>\n",
              "      <td>No</td>\n",
              "      <td>No</td>\n",
              "      <td>No</td>\n",
              "      <td>No</td>\n",
              "      <td>No</td>\n",
              "      <td>No</td>\n",
              "      <td>Male</td>\n",
              "      <td>80+</td>\n",
              "      <td>191.0</td>\n",
              "      <td>88.45</td>\n",
              "      <td>24.37</td>\n",
              "      <td>Yes</td>\n",
              "      <td>0.0</td>\n",
              "      <td>8.0</td>\n",
              "      <td>4.0</td>\n",
              "      <td>0.0</td>\n",
              "    </tr>\n",
              "  </tbody>\n",
              "</table>\n",
              "</div>"
            ],
            "text/plain": [
              "  General_Health                  Checkup Exercise Heart_Disease Skin_Cancer  \\\n",
              "0           Poor  Within the past 2 years       No            No          No   \n",
              "1      Very Good     Within the past year       No           Yes          No   \n",
              "2      Very Good     Within the past year      Yes            No          No   \n",
              "3           Poor     Within the past year      Yes           Yes          No   \n",
              "4           Good     Within the past year       No            No          No   \n",
              "\n",
              "  Other_Cancer Depression Diabetes Arthritis     Sex Age_Category  \\\n",
              "0           No         No       No       Yes  Female        70-74   \n",
              "1           No         No      Yes        No  Female        70-74   \n",
              "2           No         No      Yes        No  Female        60-64   \n",
              "3           No         No      Yes        No    Male        75-79   \n",
              "4           No         No       No        No    Male          80+   \n",
              "\n",
              "   Height_(cm)  Weight_(kg)    BMI Smoking_History  Alcohol_Consumption  \\\n",
              "0        150.0        32.66  14.54             Yes                  0.0   \n",
              "1        165.0        77.11  28.29              No                  0.0   \n",
              "2        163.0        88.45  33.47              No                  4.0   \n",
              "3        180.0        93.44  28.73              No                  0.0   \n",
              "4        191.0        88.45  24.37             Yes                  0.0   \n",
              "\n",
              "   Fruit_Consumption  Green_Vegetables_Consumption  FriedPotato_Consumption  \n",
              "0               30.0                          16.0                     12.0  \n",
              "1               30.0                           0.0                      4.0  \n",
              "2               12.0                           3.0                     16.0  \n",
              "3               30.0                          30.0                      8.0  \n",
              "4                8.0                           4.0                      0.0  "
            ]
          },
          "execution_count": 23,
          "metadata": {},
          "output_type": "execute_result"
        }
      ],
      "source": [
        "# Load the dataset\n",
        "data = pd.read_csv('CVD_cleaned.csv')\n",
        "\n",
        "# Display the first few rows of the dataset\n",
        "data.head()"
      ]
    },
    {
      "cell_type": "markdown",
      "id": "a2d8aab0",
      "metadata": {
        "id": "a2d8aab0",
        "papermill": {
          "duration": 0.019854,
          "end_time": "2023-08-23T14:08:34.726066",
          "exception": false,
          "start_time": "2023-08-23T14:08:34.706212",
          "status": "completed"
        },
        "tags": []
      },
      "source": [
        "# <span style=\"color:#E888BB; font-size: 1%;\">EXPLORATORY DATA ANALYSIS</span>\n",
        "<div style=\"padding: 35px;color:white;margin:10;font-size:170%;text-align:center;display:fill;border-radius:10px;overflow:hidden;background-image: url(https://images.pexels.com/photos/3683056/pexels-photo-3683056.jpeg?auto=compress&cs=tinysrgb&w=1260&h=750&dpr=1)\"><b><span style='color:black'>EXPLORATORY DATA ANALYSIS </span></b> </div>\n",
        "\n",
        "<br>\n",
        "\n",
        "\n",
        "\n",
        "## <div style=\"padding: 20px;color:white;margin:10;font-size:90%;text-align:left;display:fill;border-radius:10px;overflow:hidden;background-image: url(https://images.pexels.com/photos/3683041/pexels-photo-3683041.jpeg?auto=compress&cs=tinysrgb&w=1260&h=750&dpr=1)\"><b><span style='color:black'> Univariate Analysis </span></b> </div>\n",
        "\n"
      ]
    },
    {
      "cell_type": "code",
      "execution_count": 24,
      "id": "ecb7a346",
      "metadata": {
        "colab": {
          "base_uri": "https://localhost:8080/",
          "height": 1000
        },
        "execution": {
          "iopub.execute_input": "2023-08-23T14:08:51.890027Z",
          "iopub.status.busy": "2023-08-23T14:08:51.888449Z",
          "iopub.status.idle": "2023-08-23T14:08:59.272582Z",
          "shell.execute_reply": "2023-08-23T14:08:59.271267Z"
        },
        "id": "ecb7a346",
        "outputId": "e33635e6-b8e0-4360-888c-d5af64e9e3bb",
        "papermill": {
          "duration": 7.415117,
          "end_time": "2023-08-23T14:08:59.275456",
          "exception": false,
          "start_time": "2023-08-23T14:08:51.860339",
          "status": "completed"
        },
        "tags": []
      },
      "outputs": [
        {
          "data": {
            "image/png": "[encoded data removed]",
            "text/plain": [
              "<Figure size 1080x288 with 3 Axes>"
            ]
          },
          "metadata": {
            "needs_background": "light"
          },
          "output_type": "display_data"
        }
      ],
      "source": [
        "import matplotlib.pyplot as plt\n",
        "import seaborn as sns\n",
        "\n",
        "# Your list of categorical features\n",
        "categorical_features = ['General_Health', 'Heart_Disease', 'Sex']\n",
        "\n",
        "# Create a single figure with multiple subplots\n",
        "fig, axes = plt.subplots(1, len(categorical_features), figsize=(15, 4))\n",
        "\n",
        "# Loop through the categorical features and create count plots in each subplot\n",
        "for i, feature in enumerate(categorical_features):\n",
        "    sns.countplot(data=data, x=feature, ax=axes[i])\n",
        "    axes[i].set_title('Count of ' + feature)\n",
        "    axes[i].tick_params(axis='x', labelrotation=90)\n",
        "\n",
        "# Display the figure with all subplots\n",
        "plt.show()\n"
      ]
    },
    {
      "cell_type": "markdown",
      "id": "2788bbba",
      "metadata": {
        "id": "2788bbba",
        "papermill": {
          "duration": 0.031571,
          "end_time": "2023-08-23T14:08:59.339092",
          "exception": false,
          "start_time": "2023-08-23T14:08:59.307521",
          "status": "completed"
        },
        "tags": []
      },
      "source": [
        "### 🔍 Interpretation of Results:\n",
        "\n",
        "- 😊 **General_Health**: Most patients describe their general health as \"Good\", with \"Very Good\" being the second most common response. Fewer patients rate their health as \"Fair\" or \"Poor\".\n",
        "\n",
        "- ❤️ **Heart_Disease**: A significant majority of patients do not have heart disease. Only a small proportion of patients have heart disease.\n",
        "\n",
        "- ♀️♂️ **Sex**: There are slightly more female patients than male patients in the dataset.\n"
      ]
    },
    {
      "cell_type": "markdown",
      "id": "cac8a2c3",
      "metadata": {
        "id": "cac8a2c3",
        "papermill": {
          "duration": 0.03147,
          "end_time": "2023-08-23T14:08:59.403155",
          "exception": false,
          "start_time": "2023-08-23T14:08:59.371685",
          "status": "completed"
        },
        "tags": []
      },
      "source": [
        "## <div style=\"padding: 20px;color:white;margin:10;font-size:90%;text-align:left;display:fill;border-radius:10px;overflow:hidden;background-image: url(https://images.pexels.com/photos/3683041/pexels-photo-3683041.jpeg?auto=compress&cs=tinysrgb&w=1260&h=750&dpr=1)\"><b><span style='color:black'> Bivariate Analysis </span></b> </div>"
      ]
    },
    {
      "cell_type": "code",
      "execution_count": 25,
      "id": "fdcf5695",
      "metadata": {
        "colab": {
          "base_uri": "https://localhost:8080/",
          "height": 1000
        },
        "execution": {
          "iopub.execute_input": "2023-08-23T14:08:59.469693Z",
          "iopub.status.busy": "2023-08-23T14:08:59.469185Z",
          "iopub.status.idle": "2023-08-23T14:09:24.914482Z",
          "shell.execute_reply": "2023-08-23T14:09:24.913326Z"
        },
        "id": "fdcf5695",
        "outputId": "e118337a-f70d-4dde-c4e1-8cc0f972b584",
        "papermill": {
          "duration": 25.482244,
          "end_time": "2023-08-23T14:09:24.917266",
          "exception": false,
          "start_time": "2023-08-23T14:08:59.435022",
          "status": "completed"
        },
        "tags": []
      },
      "outputs": [
        {
          "data": {
            "image/png": "[encoded data removed]",
            "text/plain": [
              "<Figure size 1224x720 with 6 Axes>"
            ]
          },
          "metadata": {
            "needs_background": "light"
          },
          "output_type": "display_data"
        }
      ],
      "source": [
        "import matplotlib.pyplot as plt\n",
        "import seaborn as sns\n",
        "\n",
        "# Selected variables and disease conditions\n",
        "selected_variables = ['General_Health', 'Exercise', 'Sex', 'Age_Category', \"Smoking_History\"]\n",
        "disease_conditions = ['Heart_Disease']\n",
        "\n",
        "# Calculate the number of subplots needed\n",
        "num_plots = len(selected_variables) * len(disease_conditions)\n",
        "\n",
        "# Create subplots in a 2x2 grid\n",
        "fig, axes = plt.subplots(2, 3, figsize=(17, 10))\n",
        "\n",
        "# Flatten the axes array for easier indexing\n",
        "axes = axes.flatten()\n",
        "\n",
        "for i, disease in enumerate(disease_conditions):\n",
        "    for j, variable in enumerate(selected_variables):\n",
        "        sns.countplot(data=data, x=variable, hue=disease, ax=axes[i * len(selected_variables) + j])\n",
        "        axes[i * len(selected_variables) + j].set_title('Relationship between ' + variable + ' and ' + disease)\n",
        "        axes[i * len(selected_variables) + j].tick_params(axis='x', labelrotation=90)\n",
        "\n",
        "# Adjust subplot layout\n",
        "plt.tight_layout()\n",
        "\n",
        "# Display the subplots\n",
        "plt.show()\n"
      ]
    },
    {
      "cell_type": "markdown",
      "id": "1fc47f7a",
      "metadata": {
        "id": "1fc47f7a",
        "papermill": {
          "duration": 0.055584,
          "end_time": "2023-08-23T14:09:25.027482",
          "exception": false,
          "start_time": "2023-08-23T14:09:24.971898",
          "status": "completed"
        },
        "tags": []
      },
      "source": [
        "### 🔍 Interpretation of Results:\n",
        "\n",
        "- ❤️ `Heart_Disease`:\n",
        "\n",
        "  - Heart disease is more prevalent in patients who rate their general health as \"Poor\" or \"Fair\".🩹🔻\n",
        "  - It is slightly more common in patients who do not exercise. 🏋️‍♂️❌\n",
        "  - Males are more likely to have heart disease than females. 👨‍⚕️>👩‍⚕️\n",
        "  - The prevalence of heart disease increases with age, with it being most common in the 80+ age category. 🧓🔝\n",
        "  - Heart disease is also more common in patients with a history of smoking. 🚬🔺\n",
        "\n",
        "\n"
      ]
    },
    {
      "cell_type": "markdown",
      "id": "936f7c0f",
      "metadata": {
        "id": "936f7c0f",
        "papermill": {
          "duration": 0.054295,
          "end_time": "2023-08-23T14:09:25.141358",
          "exception": false,
          "start_time": "2023-08-23T14:09:25.087063",
          "status": "completed"
        },
        "tags": []
      },
      "source": [
        "## <div style=\"padding: 20px;color:white;margin:10;font-size:90%;text-align:left;display:fill;border-radius:10px;overflow:hidden;background-image: url(https://images.pexels.com/photos/3683041/pexels-photo-3683041.jpeg?auto=compress&cs=tinysrgb&w=1260&h=750&dpr=1)\"><b><span style='color:black'> Multivariate Analysis </span></b> </div>\n",
        "\n"
      ]
    },
    {
      "cell_type": "markdown",
      "id": "bafb47bf",
      "metadata": {
        "id": "bafb47bf",
        "papermill": {
          "duration": 0.062524,
          "end_time": "2023-08-23T14:09:32.628267",
          "exception": false,
          "start_time": "2023-08-23T14:09:32.565743",
          "status": "completed"
        },
        "tags": []
      },
      "source": [
        "### <b> <span style='color:#FF8551'>|</span> BMI category</b>"
      ]
    },
    {
      "cell_type": "code",
      "execution_count": 26,
      "id": "a6198870",
      "metadata": {
        "colab": {
          "base_uri": "https://localhost:8080/",
          "height": 1000
        },
        "execution": {
          "iopub.execute_input": "2023-08-23T14:09:32.759162Z",
          "iopub.status.busy": "2023-08-23T14:09:32.758456Z",
          "iopub.status.idle": "2023-08-23T14:09:36.531868Z",
          "shell.execute_reply": "2023-08-23T14:09:36.529303Z"
        },
        "id": "a6198870",
        "outputId": "4bda4c3a-68c5-4d90-b873-361862f852eb",
        "papermill": {
          "duration": 3.844962,
          "end_time": "2023-08-23T14:09:36.535010",
          "exception": false,
          "start_time": "2023-08-23T14:09:32.690048",
          "status": "completed"
        },
        "tags": []
      },
      "outputs": [
        {
          "data": {
            "image/png": "[encoded data removed]",
            "text/plain": [
              "<Figure size 720x504 with 1 Axes>"
            ]
          },
          "metadata": {
            "needs_background": "light"
          },
          "output_type": "display_data"
        }
      ],
      "source": [
        "# Analyze the relationship between disease conditions, BMI, and exercise\n",
        "\n",
        "# Creating a new BMI category\n",
        "data['BMI_Category'] = pd.cut(data['BMI'], bins=[0,18.5,25,30,100], labels=['Underweight','Normal','Overweight','Obese'])\n",
        "\n",
        "# plt.figure(figsize=(10, 7))\n",
        "# sns.countplot(data=data, x='BMI_Category', hue='Exercise')\n",
        "# plt.title('Distribution of BMI Category by Exercise')\n",
        "# plt.xticks(rotation=90)\n",
        "# plt.show()\n",
        "\n",
        "for disease in disease_conditions:\n",
        "    plt.figure(figsize=(10, 7))\n",
        "    sns.countplot(data=data, x='BMI_Category', hue=disease)\n",
        "    plt.title('Distribution of ' + disease + ' by BMI Category')\n",
        "    plt.xticks(rotation=90)\n",
        "    plt.show()\n"
      ]
    },
    {
      "cell_type": "markdown",
      "id": "aefe07a1",
      "metadata": {
        "id": "aefe07a1",
        "papermill": {
          "duration": 0.066249,
          "end_time": "2023-08-23T14:09:36.669670",
          "exception": false,
          "start_time": "2023-08-23T14:09:36.603421",
          "status": "completed"
        },
        "tags": []
      },
      "source": [
        "### 🔍 Interpretation of Results:\n",
        "\n",
        "- The relationship between `BMI Category` and the disease conditions (`Heart_Disease`) shows the following patterns:\n",
        "\n",
        "  - For ❤️ `Heart_Disease`, the prevalence is higher among those with \"Overweight\" and \"Obese\" BMI. This suggests that these conditions may be associated with higher BMI levels.\n",
        "\n"
      ]
    },
    {
      "cell_type": "markdown",
      "id": "6db7bd55",
      "metadata": {
        "id": "6db7bd55",
        "papermill": {
          "duration": 0.068088,
          "end_time": "2023-08-23T14:09:46.447231",
          "exception": false,
          "start_time": "2023-08-23T14:09:46.379143",
          "status": "completed"
        },
        "tags": []
      },
      "source": [
        "\n",
        "# <span style=\"color:#E888BB; font-size: 1%;\">CORRELATION MATRIX</span>\n",
        "<div style=\"padding: 35px;color:white;margin:10;font-size:170%;text-align:center;display:fill;border-radius:10px;overflow:hidden;background-image: url(https://images.pexels.com/photos/3683056/pexels-photo-3683056.jpeg?auto=compress&cs=tinysrgb&w=1260&h=750&dpr=1)\"><b><span style='color:black'>CORRELATION MATRIX </span></b> </div>\n",
        "\n",
        "### <b>I <span style='color:#FF8551'>|</span> Data Preprocessing</b>\n"
      ]
    },
    {
      "cell_type": "code",
      "execution_count": 27,
      "id": "ba39a628",
      "metadata": {
        "colab": {
          "base_uri": "https://localhost:8080/",
          "height": 226
        },
        "execution": {
          "iopub.execute_input": "2023-08-23T14:09:46.585570Z",
          "iopub.status.busy": "2023-08-23T14:09:46.584659Z",
          "iopub.status.idle": "2023-08-23T14:09:48.600223Z",
          "shell.execute_reply": "2023-08-23T14:09:48.599043Z"
        },
        "id": "ba39a628",
        "outputId": "84c47f3a-2c88-4497-b11b-7c9892139df8",
        "papermill": {
          "duration": 2.087733,
          "end_time": "2023-08-23T14:09:48.602930",
          "exception": false,
          "start_time": "2023-08-23T14:09:46.515197",
          "status": "completed"
        },
        "tags": []
      },
      "outputs": [
        {
          "data": {
            "text/html": [
              "<div>\n",
              "<style scoped>\n",
              "    .dataframe tbody tr th:only-of-type {\n",
              "        vertical-align: middle;\n",
              "    }\n",
              "\n",
              "    .dataframe tbody tr th {\n",
              "        vertical-align: top;\n",
              "    }\n",
              "\n",
              "    .dataframe thead th {\n",
              "        text-align: right;\n",
              "    }\n",
              "</style>\n",
              "<table border=\"1\" class=\"dataframe\">\n",
              "  <thead>\n",
              "    <tr style=\"text-align: right;\">\n",
              "      <th></th>\n",
              "      <th>General_Health</th>\n",
              "      <th>Checkup</th>\n",
              "      <th>Exercise</th>\n",
              "      <th>Heart_Disease</th>\n",
              "      <th>Skin_Cancer</th>\n",
              "      <th>Other_Cancer</th>\n",
              "      <th>Depression</th>\n",
              "      <th>Diabetes</th>\n",
              "      <th>Arthritis</th>\n",
              "      <th>Age_Category</th>\n",
              "      <th>Height_(cm)</th>\n",
              "      <th>Weight_(kg)</th>\n",
              "      <th>BMI</th>\n",
              "      <th>Smoking_History</th>\n",
              "      <th>Alcohol_Consumption</th>\n",
              "      <th>Fruit_Consumption</th>\n",
              "      <th>Green_Vegetables_Consumption</th>\n",
              "      <th>FriedPotato_Consumption</th>\n",
              "      <th>Sex_Female</th>\n",
              "      <th>Sex_Male</th>\n",
              "    </tr>\n",
              "  </thead>\n",
              "  <tbody>\n",
              "    <tr>\n",
              "      <th>0</th>\n",
              "      <td>0</td>\n",
              "      <td>2.0</td>\n",
              "      <td>0</td>\n",
              "      <td>0</td>\n",
              "      <td>0</td>\n",
              "      <td>0</td>\n",
              "      <td>0</td>\n",
              "      <td>0</td>\n",
              "      <td>1</td>\n",
              "      <td>10</td>\n",
              "      <td>150.0</td>\n",
              "      <td>32.66</td>\n",
              "      <td>14.54</td>\n",
              "      <td>1</td>\n",
              "      <td>0.0</td>\n",
              "      <td>30.0</td>\n",
              "      <td>16.0</td>\n",
              "      <td>12.0</td>\n",
              "      <td>1</td>\n",
              "      <td>0</td>\n",
              "    </tr>\n",
              "    <tr>\n",
              "      <th>1</th>\n",
              "      <td>3</td>\n",
              "      <td>4.0</td>\n",
              "      <td>0</td>\n",
              "      <td>1</td>\n",
              "      <td>0</td>\n",
              "      <td>0</td>\n",
              "      <td>0</td>\n",
              "      <td>1</td>\n",
              "      <td>0</td>\n",
              "      <td>10</td>\n",
              "      <td>165.0</td>\n",
              "      <td>77.11</td>\n",
              "      <td>28.29</td>\n",
              "      <td>0</td>\n",
              "      <td>0.0</td>\n",
              "      <td>30.0</td>\n",
              "      <td>0.0</td>\n",
              "      <td>4.0</td>\n",
              "      <td>1</td>\n",
              "      <td>0</td>\n",
              "    </tr>\n",
              "    <tr>\n",
              "      <th>2</th>\n",
              "      <td>3</td>\n",
              "      <td>4.0</td>\n",
              "      <td>1</td>\n",
              "      <td>0</td>\n",
              "      <td>0</td>\n",
              "      <td>0</td>\n",
              "      <td>0</td>\n",
              "      <td>1</td>\n",
              "      <td>0</td>\n",
              "      <td>8</td>\n",
              "      <td>163.0</td>\n",
              "      <td>88.45</td>\n",
              "      <td>33.47</td>\n",
              "      <td>0</td>\n",
              "      <td>4.0</td>\n",
              "      <td>12.0</td>\n",
              "      <td>3.0</td>\n",
              "      <td>16.0</td>\n",
              "      <td>1</td>\n",
              "      <td>0</td>\n",
              "    </tr>\n",
              "    <tr>\n",
              "      <th>3</th>\n",
              "      <td>0</td>\n",
              "      <td>4.0</td>\n",
              "      <td>1</td>\n",
              "      <td>1</td>\n",
              "      <td>0</td>\n",
              "      <td>0</td>\n",
              "      <td>0</td>\n",
              "      <td>1</td>\n",
              "      <td>0</td>\n",
              "      <td>11</td>\n",
              "      <td>180.0</td>\n",
              "      <td>93.44</td>\n",
              "      <td>28.73</td>\n",
              "      <td>0</td>\n",
              "      <td>0.0</td>\n",
              "      <td>30.0</td>\n",
              "      <td>30.0</td>\n",
              "      <td>8.0</td>\n",
              "      <td>0</td>\n",
              "      <td>1</td>\n",
              "    </tr>\n",
              "    <tr>\n",
              "      <th>4</th>\n",
              "      <td>2</td>\n",
              "      <td>4.0</td>\n",
              "      <td>0</td>\n",
              "      <td>0</td>\n",
              "      <td>0</td>\n",
              "      <td>0</td>\n",
              "      <td>0</td>\n",
              "      <td>0</td>\n",
              "      <td>0</td>\n",
              "      <td>12</td>\n",
              "      <td>191.0</td>\n",
              "      <td>88.45</td>\n",
              "      <td>24.37</td>\n",
              "      <td>1</td>\n",
              "      <td>0.0</td>\n",
              "      <td>8.0</td>\n",
              "      <td>4.0</td>\n",
              "      <td>0.0</td>\n",
              "      <td>0</td>\n",
              "      <td>1</td>\n",
              "    </tr>\n",
              "  </tbody>\n",
              "</table>\n",
              "</div>"
            ],
            "text/plain": [
              "   General_Health  Checkup  Exercise  Heart_Disease  Skin_Cancer  \\\n",
              "0               0      2.0         0              0            0   \n",
              "1               3      4.0         0              1            0   \n",
              "2               3      4.0         1              0            0   \n",
              "3               0      4.0         1              1            0   \n",
              "4               2      4.0         0              0            0   \n",
              "\n",
              "   Other_Cancer  Depression  Diabetes  Arthritis  Age_Category  Height_(cm)  \\\n",
              "0             0           0         0          1            10        150.0   \n",
              "1             0           0         1          0            10        165.0   \n",
              "2             0           0         1          0             8        163.0   \n",
              "3             0           0         1          0            11        180.0   \n",
              "4             0           0         0          0            12        191.0   \n",
              "\n",
              "   Weight_(kg)    BMI  Smoking_History  Alcohol_Consumption  \\\n",
              "0        32.66  14.54                1                  0.0   \n",
              "1        77.11  28.29                0                  0.0   \n",
              "2        88.45  33.47                0                  4.0   \n",
              "3        93.44  28.73                0                  0.0   \n",
              "4        88.45  24.37                1                  0.0   \n",
              "\n",
              "   Fruit_Consumption  Green_Vegetables_Consumption  FriedPotato_Consumption  \\\n",
              "0               30.0                          16.0                     12.0   \n",
              "1               30.0                           0.0                      4.0   \n",
              "2               12.0                           3.0                     16.0   \n",
              "3               30.0                          30.0                      8.0   \n",
              "4                8.0                           4.0                      0.0   \n",
              "\n",
              "   Sex_Female  Sex_Male  \n",
              "0           1         0  \n",
              "1           1         0  \n",
              "2           1         0  \n",
              "3           0         1  \n",
              "4           0         1  "
            ]
          },
          "execution_count": 27,
          "metadata": {},
          "output_type": "execute_result"
        }
      ],
      "source": [
        "# Re-import the dataset\n",
        "data = pd.read_csv('CVD_cleaned.csv')\n",
        "\n",
        "# Mapping for Diabetes\n",
        "diabetes_mapping = {\n",
        "    'No': 0,\n",
        "    'No, pre-diabetes or borderline diabetes': 0,\n",
        "    'Yes, but female told only during pregnancy': 1,\n",
        "    'Yes': 1\n",
        "}\n",
        "data['Diabetes'] = data['Diabetes'].map(diabetes_mapping)\n",
        "\n",
        "# One-hot encoding for Sex\n",
        "data = pd.get_dummies(data, columns=['Sex'])\n",
        "\n",
        "# Convert remaining categorical variables with \"Yes\" and \"No\" values to binary format for correlation computation\n",
        "binary_columns = ['Heart_Disease', 'Skin_Cancer', 'Other_Cancer', 'Depression', 'Arthritis', 'Smoking_History','Exercise']\n",
        "\n",
        "for column in binary_columns:\n",
        "    data[column] = data[column].map({'Yes': 1, 'No': 0})\n",
        "\n",
        "# Ordinal encoding for General_Health, Checkup, Age_Category\n",
        "general_health_mapping = {\n",
        "    'Poor': 0,\n",
        "    'Fair': 1,\n",
        "    'Good': 2,\n",
        "    'Very Good': 3,\n",
        "    'Excellent': 4\n",
        "}\n",
        "data['General_Health'] = data['General_Health'].map(general_health_mapping)\n",
        "\n",
        "checkup_mapping = {\n",
        "    'Never': 0,\n",
        "    '5 or more years ago': 0.2,\n",
        "    'Within the past 5 years': 1,\n",
        "    'Within the past 2 years': 2,\n",
        "    'Within the past year': 4\n",
        "\n",
        "}\n",
        "data['Checkup'] = data['Checkup'].map(checkup_mapping)\n",
        "\n",
        "\n",
        "age_category_mapping = {\n",
        "    '18-24': 0,\n",
        "    '25-29': 1,\n",
        "    '30-34': 2,\n",
        "    '35-39': 3,\n",
        "    '40-44': 4,\n",
        "    '45-49': 5,\n",
        "    '50-54': 6,\n",
        "    '55-59': 7,\n",
        "    '60-64': 8,\n",
        "    '65-69': 9,\n",
        "    '70-74': 10,\n",
        "    '75-79': 11,\n",
        "    '80+': 12\n",
        "}\n",
        "data['Age_Category'] = data['Age_Category'].map(age_category_mapping)\n",
        "\n",
        "\n",
        "# Display the first few rows of the cleaned dataset\n",
        "data.head()"
      ]
    },
    {
      "cell_type": "code",
      "execution_count": 28,
      "id": "a621431f",
      "metadata": {
        "execution": {
          "iopub.execute_input": "2023-08-23T14:09:48.746205Z",
          "iopub.status.busy": "2023-08-23T14:09:48.745309Z",
          "iopub.status.idle": "2023-08-23T14:09:48.944784Z",
          "shell.execute_reply": "2023-08-23T14:09:48.943505Z"
        },
        "id": "a621431f",
        "papermill": {
          "duration": 0.273955,
          "end_time": "2023-08-23T14:09:48.947702",
          "exception": false,
          "start_time": "2023-08-23T14:09:48.673747",
          "status": "completed"
        },
        "tags": []
      },
      "outputs": [],
      "source": [
        "# Remove duplicate rows\n",
        "data = data.drop_duplicates()"
      ]
    },
    {
      "cell_type": "markdown",
      "id": "cce92ed5",
      "metadata": {
        "id": "cce92ed5",
        "papermill": {
          "duration": 0.068969,
          "end_time": "2023-08-23T14:09:49.086280",
          "exception": false,
          "start_time": "2023-08-23T14:09:49.017311",
          "status": "completed"
        },
        "tags": []
      },
      "source": [
        "### <b>II <span style='color:#FF8551'>|</span> Correlation Matrix</b>"
      ]
    },
    {
      "cell_type": "code",
      "execution_count": 29,
      "id": "d909a51a",
      "metadata": {
        "colab": {
          "base_uri": "https://localhost:8080/",
          "height": 1000
        },
        "execution": {
          "iopub.execute_input": "2023-08-23T14:09:49.228123Z",
          "iopub.status.busy": "2023-08-23T14:09:49.227685Z",
          "iopub.status.idle": "2023-08-23T14:09:50.850698Z",
          "shell.execute_reply": "2023-08-23T14:09:50.849300Z"
        },
        "id": "d909a51a",
        "outputId": "a3b1f00e-fc6d-4d2b-d708-15caef2373b2",
        "papermill": {
          "duration": 1.699479,
          "end_time": "2023-08-23T14:09:50.855223",
          "exception": false,
          "start_time": "2023-08-23T14:09:49.155744",
          "status": "completed"
        },
        "tags": []
      },
      "outputs": [
        {
          "data": {
            "image/png": "[encoded data removed]",
            "text/plain": [
              "<Figure size 1080x864 with 2 Axes>"
            ]
          },
          "metadata": {
            "needs_background": "light"
          },
          "output_type": "display_data"
        }
      ],
      "source": [
        "# Compute the correlation matrix\n",
        "corr = data.corr()\n",
        "\n",
        "# Generate a mask for the upper triangle\n",
        "mask = np.triu(np.ones_like(corr, dtype=bool))\n",
        "\n",
        "# Set up the matplotlib figure\n",
        "plt.figure(figsize=(15, 12))\n",
        "\n",
        "# Generate a custom diverging colormap\n",
        "cmap = sns.diverging_palette(230, 20, as_cmap=True)\n",
        "\n",
        "# Draw the heatmap with the mask and correct aspect ratio\n",
        "sns.heatmap(corr, mask=mask, cmap=cmap, vmax=.3, center=0,\n",
        "            square=True, linewidths=.5, cbar_kws={\"shrink\": .5}, annot=True)\n",
        "\n",
        "plt.title('Correlation Heatmap')\n",
        "plt.show()"
      ]
    },
    {
      "cell_type": "markdown",
      "id": "04c2b01a",
      "metadata": {
        "id": "04c2b01a",
        "papermill": {
          "duration": 0.073887,
          "end_time": "2023-08-23T14:09:51.004540",
          "exception": false,
          "start_time": "2023-08-23T14:09:50.930653",
          "status": "completed"
        },
        "tags": []
      },
      "source": [
        "### 🔍 Interpretation of Results:\n",
        "\n",
        "- 📊 The correlation heatmap provides a visual representation of the correlation between different features in the dataset. Each square shows the correlation between the variables on each axis. Correlation values range from -1 to 1. Values closer to 1 represent a strong positive correlation, values closer to -1 represent a strong negative correlation, and values around 0 represent no correlation.\n",
        "\n",
        "- 🔎 Here are some observations from the heatmap:\n",
        "\n",
        "\n",
        "  \n",
        "  - 😔 `General_Health` has a negative correlation with `Heart_Disease`. This suggests that individuals who rate their general health as poor are more likely to have these conditions.\n",
        "  \n",
        "  - ❤️ `Age_Category` has a positive correlation with `Heart_Disease`. This suggests that the risk of these diseases increases with age.\n",
        "  \n",
        "  - ♂️ `Sex_Male` has a positive correlation with `Heart_Disease`\n"
      ]
    },
    {
      "cell_type": "markdown",
      "id": "d9f547de",
      "metadata": {
        "id": "d9f547de",
        "papermill": {
          "duration": 0.075496,
          "end_time": "2023-08-23T14:09:51.153787",
          "exception": false,
          "start_time": "2023-08-23T14:09:51.078291",
          "status": "completed"
        },
        "tags": []
      },
      "source": [
        "### <b>III <span style='color:#FF8551'>|</span> Correlation of each feature with the disease variables</b>"
      ]
    },
    {
      "cell_type": "code",
      "execution_count": 30,
      "id": "f8046916",
      "metadata": {
        "colab": {
          "base_uri": "https://localhost:8080/",
          "height": 1000
        },
        "execution": {
          "iopub.execute_input": "2023-08-23T14:09:51.305144Z",
          "iopub.status.busy": "2023-08-23T14:09:51.303983Z",
          "iopub.status.idle": "2023-08-23T14:09:54.255900Z",
          "shell.execute_reply": "2023-08-23T14:09:54.254595Z"
        },
        "id": "f8046916",
        "outputId": "9297bb5a-5b65-414e-c729-f51761bf3e70",
        "papermill": {
          "duration": 3.032944,
          "end_time": "2023-08-23T14:09:54.260638",
          "exception": false,
          "start_time": "2023-08-23T14:09:51.227694",
          "status": "completed"
        },
        "tags": []
      },
      "outputs": [
        {
          "data": {
            "image/png": "[encoded data removed]",
            "text/plain": [
              "<Figure size 360x720 with 1 Axes>"
            ]
          },
          "metadata": {
            "needs_background": "light"
          },
          "output_type": "display_data"
        }
      ],
      "source": [
        "# Compute the correlation of each feature with the disease variables\n",
        "disease_variables = ['Heart_Disease']\n",
        "\n",
        "# Compute the correlation matrix\n",
        "corr = data.corr()\n",
        "\n",
        "# Create a single subplot for disease correlation\n",
        "fig, ax = plt.subplots(figsize=(5, 10))\n",
        "\n",
        "for disease in disease_variables:\n",
        "    # Compute the correlation with the disease\n",
        "    target_corr = corr[disease].drop(disease)\n",
        "\n",
        "    # Sort correlation values in descending order\n",
        "    target_corr_sorted = target_corr.sort_values(ascending=False)\n",
        "\n",
        "    # Plot a heatmap of the correlations with the disease\n",
        "    sns.heatmap(target_corr_sorted.to_frame(), cmap=\"coolwarm\", annot=True, fmt='.2f', cbar=False, ax=ax)\n",
        "    ax.set_title('Correlation with ' + disease)\n",
        "\n",
        "plt.tight_layout()\n",
        "plt.show()\n"
      ]
    },
    {
      "cell_type": "markdown",
      "id": "61e6b496",
      "metadata": {
        "id": "61e6b496",
        "papermill": {
          "duration": 0.082375,
          "end_time": "2023-08-23T14:09:54.422837",
          "exception": false,
          "start_time": "2023-08-23T14:09:54.340462",
          "status": "completed"
        },
        "tags": []
      },
      "source": [
        "### 🔍 Interpretation of Results:\n",
        "\n",
        "- 📊 The correlation heatmaps show the correlation of each feature with the disease variables: Heart_Disease\n",
        "\n",
        "- 🔎 From the heatmaps, we can observe the following:\n",
        "\n",
        "  - ❤️ **Heart_Disease**: This condition shows a strong positive correlation with `Age_Category` and `Sex_Male`, and a negative correlation with `General health`, `Exercise` and `Sex_Female`."
      ]
    },
    {
      "cell_type": "code",
      "execution_count": 31,
      "id": "bf52a95b",
      "metadata": {
        "execution": {
          "iopub.execute_input": "2023-08-23T14:09:54.756750Z",
          "iopub.status.busy": "2023-08-23T14:09:54.755395Z",
          "iopub.status.idle": "2023-08-23T14:09:56.024616Z",
          "shell.execute_reply": "2023-08-23T14:09:56.023322Z"
        },
        "id": "bf52a95b",
        "papermill": {
          "duration": 1.354395,
          "end_time": "2023-08-23T14:09:56.027891",
          "exception": false,
          "start_time": "2023-08-23T14:09:54.673496",
          "status": "completed"
        },
        "tags": []
      },
      "outputs": [],
      "source": [
        "# Re-import the dataset\n",
        "data = pd.read_csv('CVD_cleaned.csv')"
      ]
    },
    {
      "cell_type": "markdown",
      "id": "10c6b0d6",
      "metadata": {
        "id": "10c6b0d6",
        "papermill": {
          "duration": 0.082358,
          "end_time": "2023-08-23T14:09:56.200964",
          "exception": false,
          "start_time": "2023-08-23T14:09:56.118606",
          "status": "completed"
        },
        "tags": []
      },
      "source": [
        "### <b>I <span style='color:#FF8551'>|</span> Missing Values</b>"
      ]
    },
    {
      "cell_type": "code",
      "execution_count": 32,
      "id": "d01160cc",
      "metadata": {
        "colab": {
          "base_uri": "https://localhost:8080/"
        },
        "execution": {
          "iopub.execute_input": "2023-08-23T14:09:56.366497Z",
          "iopub.status.busy": "2023-08-23T14:09:56.365542Z",
          "iopub.status.idle": "2023-08-23T14:09:57.641119Z",
          "shell.execute_reply": "2023-08-23T14:09:57.639954Z"
        },
        "id": "d01160cc",
        "outputId": "5c9fc7f7-62fb-4355-cba1-f737c09a560f",
        "papermill": {
          "duration": 1.363566,
          "end_time": "2023-08-23T14:09:57.644090",
          "exception": false,
          "start_time": "2023-08-23T14:09:56.280524",
          "status": "completed"
        },
        "tags": []
      },
      "outputs": [
        {
          "data": {
            "text/plain": [
              "General_Health                  0\n",
              "Checkup                         0\n",
              "Exercise                        0\n",
              "Heart_Disease                   0\n",
              "Skin_Cancer                     0\n",
              "Other_Cancer                    0\n",
              "Depression                      0\n",
              "Diabetes                        0\n",
              "Arthritis                       0\n",
              "Sex                             0\n",
              "Age_Category                    0\n",
              "Height_(cm)                     0\n",
              "Weight_(kg)                     0\n",
              "BMI                             0\n",
              "Smoking_History                 0\n",
              "Alcohol_Consumption             0\n",
              "Fruit_Consumption               0\n",
              "Green_Vegetables_Consumption    0\n",
              "FriedPotato_Consumption         0\n",
              "dtype: int64"
            ]
          },
          "execution_count": 32,
          "metadata": {},
          "output_type": "execute_result"
        }
      ],
      "source": [
        "# Check for missing values in each column\n",
        "data.isnull().sum()"
      ]
    },
    {
      "cell_type": "markdown",
      "id": "42d9b0d0",
      "metadata": {
        "id": "42d9b0d0",
        "papermill": {
          "duration": 0.096492,
          "end_time": "2023-08-23T14:09:57.827178",
          "exception": false,
          "start_time": "2023-08-23T14:09:57.730686",
          "status": "completed"
        },
        "tags": []
      },
      "source": [
        "The dataset **does not contain any missing values**, which is great. The next step would typically be to look for any inconsistencies or outliers in the data. 🚀\n"
      ]
    },
    {
      "cell_type": "markdown",
      "id": "43bc7a49",
      "metadata": {
        "id": "43bc7a49",
        "papermill": {
          "duration": 0.083857,
          "end_time": "2023-08-23T14:10:00.738386",
          "exception": false,
          "start_time": "2023-08-23T14:10:00.654529",
          "status": "completed"
        },
        "tags": []
      },
      "source": [
        "### <b>III <span style='color:#FF8551'>|</span> Duplicates</b>"
      ]
    },
    {
      "cell_type": "code",
      "execution_count": 33,
      "id": "dcd37875",
      "metadata": {
        "colab": {
          "base_uri": "https://localhost:8080/"
        },
        "execution": {
          "iopub.execute_input": "2023-08-23T14:10:00.907029Z",
          "iopub.status.busy": "2023-08-23T14:10:00.906559Z",
          "iopub.status.idle": "2023-08-23T14:10:01.339888Z",
          "shell.execute_reply": "2023-08-23T14:10:01.337968Z"
        },
        "id": "dcd37875",
        "outputId": "87c9e1c0-21db-47a1-f60b-52a61b01189d",
        "papermill": {
          "duration": 0.522007,
          "end_time": "2023-08-23T14:10:01.342667",
          "exception": false,
          "start_time": "2023-08-23T14:10:00.820660",
          "status": "completed"
        },
        "tags": []
      },
      "outputs": [
        {
          "name": "stdout",
          "output_type": "stream",
          "text": [
            "Number of duplicates: 80\n"
          ]
        }
      ],
      "source": [
        "# Count duplicates\n",
        "duplicate_count = data.duplicated().sum()\n",
        "\n",
        "# Print the count\n",
        "print(\"Number of duplicates:\", duplicate_count)"
      ]
    },
    {
      "cell_type": "code",
      "execution_count": 34,
      "id": "9bb42d81",
      "metadata": {
        "execution": {
          "iopub.execute_input": "2023-08-23T14:10:01.516788Z",
          "iopub.status.busy": "2023-08-23T14:10:01.516353Z",
          "iopub.status.idle": "2023-08-23T14:10:02.079962Z",
          "shell.execute_reply": "2023-08-23T14:10:02.078533Z"
        },
        "id": "9bb42d81",
        "papermill": {
          "duration": 0.657248,
          "end_time": "2023-08-23T14:10:02.083209",
          "exception": false,
          "start_time": "2023-08-23T14:10:01.425961",
          "status": "completed"
        },
        "tags": []
      },
      "outputs": [],
      "source": [
        "# Remove duplicate rows\n",
        "data = data.drop_duplicates()"
      ]
    },
    {
      "cell_type": "markdown",
      "id": "74ba234c",
      "metadata": {
        "id": "74ba234c",
        "papermill": {
          "duration": 0.083676,
          "end_time": "2023-08-23T14:10:02.254046",
          "exception": false,
          "start_time": "2023-08-23T14:10:02.170370",
          "status": "completed"
        },
        "tags": []
      },
      "source": [
        "# <span style=\"color:#E888BB; font-size: 1%;\">DATA PREPARATION</span>\n",
        "<div style=\"padding: 35px;color:white;margin:10;font-size:170%;text-align:center;display:fill;border-radius:10px;overflow:hidden;background-image: url(https://images.pexels.com/photos/3683056/pexels-photo-3683056.jpeg?auto=compress&cs=tinysrgb&w=1260&h=750&dpr=1)\"><b><span style='color:black'>DATA PREPARATION</span></b> </div>\n",
        "\n",
        "## <div style=\"padding: 20px;color:white;margin:10;font-size:90%;text-align:left;display:fill;border-radius:10px;overflow:hidden;background-image: url(https://images.pexels.com/photos/3683041/pexels-photo-3683041.jpeg?auto=compress&cs=tinysrgb&w=1260&h=750&dpr=1)\"><b><span style='color:black'> Feature Engineering </span></b> </div>"
      ]
    },
    {
      "cell_type": "code",
      "execution_count": 35,
      "id": "34a0e4c3",
      "metadata": {
        "execution": {
          "iopub.execute_input": "2023-08-23T14:10:02.422124Z",
          "iopub.status.busy": "2023-08-23T14:10:02.420948Z",
          "iopub.status.idle": "2023-08-23T14:10:03.588719Z",
          "shell.execute_reply": "2023-08-23T14:10:03.587517Z"
        },
        "id": "34a0e4c3",
        "papermill": {
          "duration": 1.254954,
          "end_time": "2023-08-23T14:10:03.591828",
          "exception": false,
          "start_time": "2023-08-23T14:10:02.336874",
          "status": "completed"
        },
        "tags": []
      },
      "outputs": [],
      "source": [
        "# BMI Category\n",
        "data['BMI_Category'] = pd.cut(data['BMI'], bins=[0, 18.5, 24.9, 29.9, np.inf], labels=['Underweight', 'Normal weight', 'Overweight', 'Obesity'])\n",
        "\n",
        "# Health Checkup Frequency\n",
        "checkup_mapping = {'Within the past year': 4, 'Within the past 2 years': 2, 'Within the past 5 years': 1, '5 or more years ago': 0.2, 'Never': 0}\n",
        "data['Checkup_Frequency'] = data['Checkup'].replace(checkup_mapping)\n",
        "\n",
        "# Lifestyle Score\n",
        "exercise_mapping = {'Yes': 1, 'No': 0}\n",
        "smoking_mapping = {'Yes': -1, 'No': 0}\n",
        "data['Lifestyle_Score'] = data['Exercise'].replace(exercise_mapping) - data['Smoking_History'].replace(smoking_mapping) + data['Fruit_Consumption']/10 + data['Green_Vegetables_Consumption']/10 - data['Alcohol_Consumption']/10\n",
        "\n",
        "# Healthy Diet Score\n",
        "data['Healthy_Diet_Score'] = data['Fruit_Consumption']/10 + data['Green_Vegetables_Consumption']/10 - data['FriedPotato_Consumption']/10\n",
        "\n",
        "# Interaction Terms\n",
        "data['Smoking_Alcohol'] = data['Smoking_History'].replace(smoking_mapping) * data['Alcohol_Consumption']\n",
        "data['Checkup_Exercise'] = data['Checkup_Frequency'] * data['Exercise'].replace(exercise_mapping)\n",
        "\n",
        "# Ratio of Height to Weight\n",
        "data['Height_to_Weight'] = data['Height_(cm)'] / data['Weight_(kg)']\n",
        "\n",
        "# Fruit and Vegetables Consumption Interaction\n",
        "data['Fruit_Vegetables'] = data['Fruit_Consumption'] * data['Green_Vegetables_Consumption']\n",
        "\n",
        "# Healthy_Diet_Lifestyle Interaction\n",
        "data['HealthyDiet_Lifestyle'] = data['Healthy_Diet_Score'] * data['Lifestyle_Score']\n",
        "\n",
        "# Alcohol_FriedPotato Interaction\n",
        "data['Alcohol_FriedPotato'] = data['Alcohol_Consumption'] * data['FriedPotato_Consumption']"
      ]
    },
    {
      "cell_type": "markdown",
      "id": "204ae151",
      "metadata": {
        "id": "204ae151",
        "papermill": {
          "duration": 0.081897,
          "end_time": "2023-08-23T14:10:03.757429",
          "exception": false,
          "start_time": "2023-08-23T14:10:03.675532",
          "status": "completed"
        },
        "tags": []
      },
      "source": [
        "### Process:\n",
        "\n",
        "\n",
        "- `BMI_Category`: 🍏🍔🧮 This variable categorizes the BMI (Body Mass Index) of each individual into one of four categories: 'Underweight', 'Normal weight', 'Overweight', and 'Obesity'. This is based on the following ranges: underweight is a BMI less than 18.5, normal weight is a BMI from 18.5 to 24.9, overweight is a BMI from 25 to 29.9, and obesity is a BMI of 30 or higher.\n",
        "\n",
        "- `Checkup_Frequency`: 📅⚕️ This variable represents the frequency of health check-ups for each individual. It assigns numeric values to the different frequency categories, where a higher value represents more frequent check-ups.\n",
        "\n",
        "- `Lifestyle_Score`: 💪🚬🥦🍷 This variable provides a composite score based on various lifestyle factors including exercise, smoking, fruit consumption, green vegetable consumption, and alcohol consumption. Each lifestyle factor is assigned a certain weight, with positive activities like exercise and healthy eating contributing positively to the score, and negative activities like smoking and alcohol consumption subtracting from the score.\n",
        "\n",
        "- `Healthy_Diet_Score`: 🍇🥬🍟 This variable calculates a score based on the individual's diet. It considers the consumption of fruits, green vegetables, and fried potatoes. More consumption of fruits and green vegetables adds positively to the score, while consumption of fried potatoes subtracts from the score.\n",
        "\n",
        "- `Smoking_Alcohol`: 🚬🍺 This interaction term represents the combination of smoking and alcohol consumption. It multiplies the mapped values of smoking history and alcohol consumption.\n",
        "\n",
        "- `Checkup_Exercise`: 🏋️‍♀️🩺 This interaction term represents the combination of health check-up frequency and exercise habits. It multiplies the mapped values of health check-up frequency and exercise habits.\n",
        "\n",
        "- `Height_to_Weight`: 👫⚖️ This variable calculates the ratio of an individual's height to their weight.\n",
        "\n",
        "- `Fruit_Vegetables`: 🍏🥦 This interaction term represents the combined consumption of fruits and green vegetables. It multiplies the values of fruit consumption and green vegetable consumption.\n",
        "\n",
        "- `Depression_Exercise`: 😞🏃‍♀️ This interaction term represents the combination of depression status and exercise habits. It multiplies the mapped values of depression status and exercise habits.\n",
        "\n",
        "- `HealthyDiet_Lifestyle`: 🥗💃 This interaction term represents the combination of the Healthy Diet Score and the Lifestyle Score. It multiplies the values of these two scores.\n",
        "\n",
        "- `Alcohol_FriedPotato`: 🍺🍟 This interaction term represents the combined consumption of alcohol and fried potatoes. It multiplies the values of alcohol consumption and fried potato consumption.\n"
      ]
    },
    {
      "cell_type": "markdown",
      "id": "1d3c781d",
      "metadata": {
        "id": "1d3c781d",
        "papermill": {
          "duration": 0.082222,
          "end_time": "2023-08-23T14:10:03.922524",
          "exception": false,
          "start_time": "2023-08-23T14:10:03.840302",
          "status": "completed"
        },
        "tags": []
      },
      "source": [
        "## <div style=\"padding: 20px;color:white;margin:10;font-size:90%;text-align:left;display:fill;border-radius:10px;overflow:hidden;background-image: url(https://images.pexels.com/photos/3683041/pexels-photo-3683041.jpeg?auto=compress&cs=tinysrgb&w=1260&h=750&dpr=1)\"><b><span style='color:black'> Feature Preprocessing </span></b> </div>"
      ]
    },
    {
      "cell_type": "code",
      "execution_count": 36,
      "id": "946bc5f2",
      "metadata": {
        "execution": {
          "iopub.execute_input": "2023-08-23T14:10:04.088621Z",
          "iopub.status.busy": "2023-08-23T14:10:04.088176Z",
          "iopub.status.idle": "2023-08-23T14:10:04.834124Z",
          "shell.execute_reply": "2023-08-23T14:10:04.833125Z"
        },
        "id": "946bc5f2",
        "papermill": {
          "duration": 0.832347,
          "end_time": "2023-08-23T14:10:04.836934",
          "exception": false,
          "start_time": "2023-08-23T14:10:04.004587",
          "status": "completed"
        },
        "tags": []
      },
      "outputs": [],
      "source": [
        "# Mapping for Diabetes\n",
        "diabetes_mapping = {\n",
        "    'No': 0,\n",
        "    'No, pre-diabetes or borderline diabetes': 0,\n",
        "    'Yes, but female told only during pregnancy': 1,\n",
        "    'Yes': 1\n",
        "}\n",
        "data['Diabetes'] = data['Diabetes'].map(diabetes_mapping)\n",
        "\n",
        "# One-hot encoding for Sex\n",
        "data = pd.get_dummies(data, columns=['Sex'])\n",
        "\n",
        "# Convert remaining categorical variables with \"Yes\" and \"No\" values to binary format for correlation computation\n",
        "binary_columns = ['Heart_Disease', 'Skin_Cancer', 'Other_Cancer', 'Depression', 'Arthritis', 'Smoking_History','Exercise']\n",
        "\n",
        "for column in binary_columns:\n",
        "    data[column] = data[column].map({'Yes': 1, 'No': 0})\n",
        "\n",
        "# Ordinal encoding for General_Health, Age_Category,BMI_Category\n",
        "general_health_mapping = {\n",
        "    'Poor': 0,\n",
        "    'Fair': 1,\n",
        "    'Good': 2,\n",
        "    'Very Good': 3,\n",
        "    'Excellent': 4\n",
        "}\n",
        "data['General_Health'] = data['General_Health'].map(general_health_mapping)\n",
        "\n",
        "bmi_mapping = {\n",
        "    'Underweight': 0,\n",
        "    'Normal weight': 1,\n",
        "    'Overweight': 2,\n",
        "    'Obesity': 3\n",
        "}\n",
        "\n",
        "data['BMI_Category'] = data['BMI_Category'].map(bmi_mapping).astype(int)\n",
        "\n",
        "age_category_mapping = {\n",
        "    '18-24': 0,\n",
        "    '25-29': 1,\n",
        "    '30-34': 2,\n",
        "    '35-39': 3,\n",
        "    '40-44': 4,\n",
        "    '45-49': 5,\n",
        "    '50-54': 6,\n",
        "    '55-59': 7,\n",
        "    '60-64': 8,\n",
        "    '65-69': 9,\n",
        "    '70-74': 10,\n",
        "    '75-79': 11,\n",
        "    '80+': 12\n",
        "}\n",
        "data['Age_Category'] = data['Age_Category'].map(age_category_mapping)\n",
        "\n",
        "data = data.drop([\"Checkup\"],axis=1)"
      ]
    },
    {
      "cell_type": "markdown",
      "id": "3bad6a28",
      "metadata": {},
      "source": [
        "## <div style=\"padding: 20px;color:white;margin:10;font-size:90%;text-align:left;display:fill;border-radius:10px;overflow:hidden;background-image: url(https://images.pexels.com/photos/3683041/pexels-photo-3683041.jpeg?auto=compress&cs=tinysrgb&w=1260&h=750&dpr=1)\"><b><span style='color:black'> Data Pipeline </span></b> </div>"
      ]
    },
    {
      "cell_type": "code",
      "execution_count": 37,
      "id": "23bee498",
      "metadata": {},
      "outputs": [],
      "source": [
        "import warnings\n",
        "warnings.filterwarnings('ignore')\n",
        "\n",
        "from sklearn.model_selection import train_test_split\n",
        "from sklearn.preprocessing import MinMaxScaler\n",
        "from sklearn.metrics import classification_report, confusion_matrix, roc_curve, auc, precision_recall_curve\n",
        "from xgboost import XGBClassifier\n",
        "from sklearn.model_selection import GridSearchCV\n",
        "from sklearn.metrics import make_scorer, roc_auc_score\n",
        "from sklearn.metrics import confusion_matrix, ConfusionMatrixDisplay\n",
        "from sklearn.model_selection import learning_curve\n",
        "from sklearn.metrics import accuracy_score"
      ]
    },
    {
      "cell_type": "code",
      "execution_count": 38,
      "id": "efba6c99",
      "metadata": {},
      "outputs": [],
      "source": [
        "# Define the features and target\n",
        "X = data.drop('Heart_Disease', axis=1)\n",
        "y = data['Heart_Disease']\n",
        "\n",
        "# Split the data into training and test sets\n",
        "X_train, X_test, y_train, y_test = train_test_split(X, y, test_size=0.2, random_state=42)"
      ]
    },
    {
      "cell_type": "markdown",
      "id": "a6299147",
      "metadata": {},
      "source": [
        "# <span style=\"color:#E888BB; font-size: 1%;\">GRADIENT BOOSTING</span>\n",
        "<div style=\"padding: 35px;color:white;margin:10;font-size:170%;text-align:center;display:fill;border-radius:10px;overflow:hidden;background-image: url(https://images.pexels.com/photos/3683056/pexels-photo-3683056.jpeg?auto=compress&cs=tinysrgb&w=1260&h=750&dpr=1)\"><b><span style='color:black'>VOTING </span></b> </div>"
      ]
    },
    {
      "cell_type": "code",
      "execution_count": 39,
      "id": "b1ccf56a",
      "metadata": {},
      "outputs": [],
      "source": [
        "#Voting\n",
        "from sklearn.ensemble import RandomForestClassifier, AdaBoostClassifier, VotingClassifier\n",
        "from sklearn.metrics import log_loss\n",
        "from sklearn.model_selection import train_test_split\n",
        "from sklearn.linear_model import LogisticRegression\n",
        "\n",
        "# Split the data into training and testing sets\n",
        "X_train, X_test, y_train, y_test = train_test_split(X, y, test_size=0.2, random_state=42)\n",
        "\n",
        "# Define the base classifiers\n",
        "random_forest = RandomForestClassifier(random_state=42)\n",
        "adaboost = AdaBoostClassifier(random_state=42)\n",
        "logistic_clf = LogisticRegression(random_state=42)\n",
        "\n",
        "# Create a VotingClassifier with the base classifiers\n",
        "voting_classifier = VotingClassifier(estimators=[('rf', random_forest), ('ada', adaboost), ('lr', logistic_clf)], voting='soft')\n",
        "\n",
        "# Train the ensemble model\n",
        "voting_classifier.fit(X_train, y_train)\n",
        "\n",
        "# Make predictions on the test set\n",
        "y_pred_vote = voting_classifier.predict(X_test)\n",
        "\n",
        "\n"
      ]
    },
    {
      "cell_type": "code",
      "execution_count": 40,
      "id": "26b4c2be",
      "metadata": {},
      "outputs": [
        {
          "name": "stdout",
          "output_type": "stream",
          "text": [
            "Voting Accuracy-\n",
            "0.9179823496073193\n",
            "VOTING REPORT-\n",
            "              precision    recall  f1-score   support\n",
            "\n",
            "           0       0.92      1.00      0.96     56677\n",
            "           1       0.68      0.00      0.01      5078\n",
            "\n",
            "    accuracy                           0.92     61755\n",
            "   macro avg       0.80      0.50      0.48     61755\n",
            "weighted avg       0.90      0.92      0.88     61755\n",
            "\n"
          ]
        }
      ],
      "source": [
        "print(\"Voting Accuracy-\")\n",
        "print(accuracy_score(y_test,y_pred_vote))\n",
        "print(\"VOTING REPORT-\")\n",
        "print(classification_report(y_test, y_pred_vote))"
      ]
    },
    {
      "cell_type": "markdown",
      "id": "5640b04f",
      "metadata": {},
      "source": [
        "# <span style=\"color:#E888BB; font-size: 1%;\">GRADIENT BOOSTING</span>\n",
        "<div style=\"padding: 35px;color:white;margin:10;font-size:170%;text-align:center;display:fill;border-radius:10px;overflow:hidden;background-image: url(https://images.pexels.com/photos/3683056/pexels-photo-3683056.jpeg?auto=compress&cs=tinysrgb&w=1260&h=750&dpr=1)\"><b><span style='color:black'>STACKING </span></b> </div>"
      ]
    },
    {
      "cell_type": "code",
      "execution_count": 42,
      "id": "fe087b7f",
      "metadata": {},
      "outputs": [],
      "source": [
        "from sklearn.ensemble import StackingClassifier\n",
        "from sklearn.ensemble import RandomForestClassifier\n",
        "from sklearn.ensemble import GradientBoostingClassifier\n",
        "from sklearn.svm import SVC\n",
        "from xgboost import XGBClassifier\n",
        "from sklearn.linear_model import LogisticRegression\n",
        "\n",
        "# Define a list of different base models\n",
        "base_models = [\n",
        "    ('rf', RandomForestClassifier(n_estimators=100)),\n",
        "    ('gb', GradientBoostingClassifier(n_estimators=100)),\n",
        "   ('xgb', XGBClassifier(n_estimators=100))\n",
        "]\n",
        "\n",
        "# Specify a meta-model (e.g., Logistic Regression)\n",
        "meta_model = LogisticRegression()\n",
        "\n",
        "# Create the stacking classifier\n",
        "stack_model = StackingClassifier(\n",
        "    estimators=base_models,\n",
        "    final_estimator=meta_model,\n",
        "    stack_method='predict_proba'  # Use 'predict_proba' for logloss\n",
        ")\n",
        "\n",
        "# Train the stacking model\n",
        "stack_model.fit(X_train, y_train)\n",
        "\n",
        "# Make predictions on the test set\n",
        "y_pred_stack = stack_model.predict(X_test)\n",
        "y_score_stack = stack_model.predict_proba(X_test)[:, 1]\n"
      ]
    },
    {
      "cell_type": "code",
      "execution_count": 43,
      "id": "dcaaca4f",
      "metadata": {},
      "outputs": [
        {
          "name": "stdout",
          "output_type": "stream",
          "text": [
            "Stacking Accuracy-\n",
            "0.9169298032547972\n",
            "stacking REPORT-\n",
            "              precision    recall  f1-score   support\n",
            "\n",
            "           0       0.93      0.99      0.96     56677\n",
            "           1       0.48      0.11      0.18      5078\n",
            "\n",
            "    accuracy                           0.92     61755\n",
            "   macro avg       0.70      0.55      0.57     61755\n",
            "weighted avg       0.89      0.92      0.89     61755\n",
            "\n"
          ]
        }
      ],
      "source": [
        "print(\"Stacking Accuracy-\")\n",
        "print(accuracy_score(y_test,y_pred_stack))\n",
        "print(\"stacking REPORT-\")\n",
        "print(classification_report(y_test, y_pred_stack))"
      ]
    },
    {
      "cell_type": "markdown",
      "id": "94204a81",
      "metadata": {},
      "source": [
        "# <span style=\"color:#E888BB; font-size: 1%;\">GRADIENT BOOSTING</span>\n",
        "<div style=\"padding: 35px;color:white;margin:10;font-size:170%;text-align:center;display:fill;border-radius:10px;overflow:hidden;background-image: url(https://images.pexels.com/photos/3683056/pexels-photo-3683056.jpeg?auto=compress&cs=tinysrgb&w=1260&h=750&dpr=1)\"><b><span style='color:black'>BAGGING </span></b> </div>"
      ]
    },
    {
      "cell_type": "markdown",
      "id": "c6cc450e",
      "metadata": {},
      "source": [
        "### RANDOM FOREST"
      ]
    },
    {
      "cell_type": "code",
      "execution_count": 44,
      "id": "08329375",
      "metadata": {},
      "outputs": [],
      "source": [
        "#Random forest\n",
        "from sklearn.ensemble import RandomForestClassifier\n",
        "\n",
        "# Define the model with default hyperparameters\n",
        "model = RandomForestClassifier(random_state=42)  # You can adjust hyperparameters as needed\n",
        "\n",
        "# Train the model\n",
        "model.fit(X_train, y_train)\n",
        "\n",
        "# Make predictions on the test set\n",
        "y_pred_rand = model.predict(X_test)\n",
        "y_score_rand = model.predict_proba(X_test)[:, 1]  # Random Forest does not have a predict_proba method by default\n"
      ]
    },
    {
      "cell_type": "code",
      "execution_count": 45,
      "id": "532fb2d3",
      "metadata": {},
      "outputs": [
        {
          "name": "stdout",
          "output_type": "stream",
          "text": [
            "random forest Accuracy-\n",
            "0.9175289450246944\n",
            "random forest REPORT-\n",
            "              precision    recall  f1-score   support\n",
            "\n",
            "           0       0.92      1.00      0.96     56677\n",
            "           1       0.48      0.03      0.06      5078\n",
            "\n",
            "    accuracy                           0.92     61755\n",
            "   macro avg       0.70      0.52      0.51     61755\n",
            "weighted avg       0.88      0.92      0.88     61755\n",
            "\n"
          ]
        }
      ],
      "source": [
        "print(\"random forest Accuracy-\")\n",
        "print(accuracy_score(y_test,y_pred_rand))\n",
        "print(\"random forest REPORT-\")\n",
        "print(classification_report(y_test, y_pred_rand))"
      ]
    },
    {
      "cell_type": "markdown",
      "id": "d4cc967d",
      "metadata": {},
      "source": [
        "### EXTRA TREES"
      ]
    },
    {
      "cell_type": "code",
      "execution_count": 46,
      "id": "58c7b6de",
      "metadata": {},
      "outputs": [],
      "source": [
        "from sklearn.ensemble import ExtraTreesClassifier\n",
        "from sklearn.model_selection import train_test_split\n",
        "from sklearn.metrics import accuracy_score\n",
        "\n",
        "# Create an instance of the Extra Trees Classifier\n",
        "extra_trees = ExtraTreesClassifier(n_estimators=100)\n",
        "\n",
        "# Fit the Extra Trees model to your training data\n",
        "extra_trees.fit(X_train, y_train)\n",
        "\n",
        "# Make predictions on the test data\n",
        "y_pred_ext = extra_trees.predict(X_test)\n"
      ]
    },
    {
      "cell_type": "code",
      "execution_count": 47,
      "id": "4809966d",
      "metadata": {},
      "outputs": [
        {
          "name": "stdout",
          "output_type": "stream",
          "text": [
            "Extra Trees Accuracy-\n",
            "0.9175289450246944\n",
            "Extra Trees REPORT-\n",
            "              precision    recall  f1-score   support\n",
            "\n",
            "           0       0.92      1.00      0.96     56677\n",
            "           1       0.48      0.03      0.06      5078\n",
            "\n",
            "    accuracy                           0.92     61755\n",
            "   macro avg       0.70      0.52      0.51     61755\n",
            "weighted avg       0.88      0.92      0.88     61755\n",
            "\n"
          ]
        }
      ],
      "source": [
        "print(\"Extra Trees Accuracy-\")\n",
        "print(accuracy_score(y_test,y_pred_rand))\n",
        "print(\"Extra Trees REPORT-\")\n",
        "print(classification_report(y_test, y_pred_rand))"
      ]
    },
    {
      "cell_type": "markdown",
      "id": "37ca5afe",
      "metadata": {},
      "source": [
        "# <span style=\"color:#E888BB; font-size: 1%;\">GRADIENT BOOSTING</span>\n",
        "<div style=\"padding: 35px;color:white;margin:10;font-size:170%;text-align:center;display:fill;border-radius:10px;overflow:hidden;background-image: url(https://images.pexels.com/photos/3683056/pexels-photo-3683056.jpeg?auto=compress&cs=tinysrgb&w=1260&h=750&dpr=1)\"><b><span style='color:black'>BOOSTING</span></b> </div>"
      ]
    },
    {
      "cell_type": "markdown",
      "id": "6f7c6e39",
      "metadata": {},
      "source": [
        "### XGBOOST"
      ]
    },
    {
      "cell_type": "code",
      "execution_count": 48,
      "id": "eb43c534",
      "metadata": {},
      "outputs": [],
      "source": [
        "from math import sqrt\n",
        "# Define the model with default hyperparameters\n",
        "model = XGBClassifier(\n",
        "    eval_metric='logloss', # use logloss to evaluate performance\n",
        "    use_label_encoder=False # to avoid warning message\n",
        ")\n",
        "\n",
        "# Train the model\n",
        "model.fit(X_train, y_train)\n",
        "\n",
        "# Make predictions on the test set\n",
        "y_pred_xg = model.predict(X_test)\n",
        "y_score_xg = model.predict_proba(X_test)[:,1]"
      ]
    },
    {
      "cell_type": "code",
      "execution_count": 49,
      "id": "aa60e67e",
      "metadata": {},
      "outputs": [
        {
          "name": "stdout",
          "output_type": "stream",
          "text": [
            "XGBoost Accuracy-\n",
            "0.9182090518986317\n",
            "XGBoost REPORT-\n",
            "              precision    recall  f1-score   support\n",
            "\n",
            "           0       0.92      1.00      0.96     56677\n",
            "           1       0.53      0.05      0.09      5078\n",
            "\n",
            "    accuracy                           0.92     61755\n",
            "   macro avg       0.72      0.52      0.52     61755\n",
            "weighted avg       0.89      0.92      0.89     61755\n",
            "\n"
          ]
        }
      ],
      "source": [
        "print(\"XGBoost Accuracy-\")\n",
        "print(accuracy_score(y_test,y_pred_xg))\n",
        "print(\"XGBoost REPORT-\")\n",
        "print(classification_report(y_test, y_pred_xg))"
      ]
    },
    {
      "cell_type": "markdown",
      "id": "d3a3ed96",
      "metadata": {},
      "source": [
        "### LightGBM"
      ]
    },
    {
      "cell_type": "code",
      "execution_count": 50,
      "id": "f5d44bc2",
      "metadata": {},
      "outputs": [
        {
          "name": "stdout",
          "output_type": "stream",
          "text": [
            "[LightGBM] [Info] Number of positive: 19893, number of negative: 227126\n",
            "[LightGBM] [Info] Auto-choosing row-wise multi-threading, the overhead of testing was 0.009050 seconds.\n",
            "You can set `force_row_wise=true` to remove the overhead.\n",
            "And if memory is not enough, you can set `force_col_wise=true`.\n",
            "[LightGBM] [Info] Total Bins 2113\n",
            "[LightGBM] [Info] Number of data points in the train set: 247019, number of used features: 28\n",
            "[LightGBM] [Info] [binary:BoostFromScore]: pavg=0.080532 -> initscore=-2.435137\n",
            "[LightGBM] [Info] Start training from score -2.435137\n"
          ]
        }
      ],
      "source": [
        "#Light GBM\n",
        "from lightgbm import LGBMClassifier\n",
        "\n",
        "\n",
        "# Create the LightGBM model\n",
        "model = LGBMClassifier(  # adjust class weights due to class imbalance\n",
        "    objective='binary',  # specify binary classification objective\n",
        "    metric='binary_logloss',  # use logloss to evaluate performance\n",
        "    boosting_type='gbdt',  # gradient boosting decision tree\n",
        "    use_missing=False,  # avoid missing value handling warning\n",
        ")\n",
        "\n",
        "# Train the model\n",
        "model.fit(X_train, y_train)\n",
        "\n",
        "# Make predictions on the test set\n",
        "y_pred_GBM = model.predict(X_test)\n",
        "y_score_GBM = model.predict_proba(X_test)[:, 1]"
      ]
    },
    {
      "cell_type": "code",
      "execution_count": 51,
      "id": "7563e244",
      "metadata": {},
      "outputs": [
        {
          "name": "stdout",
          "output_type": "stream",
          "text": [
            "LightGBM Accuracy-\n",
            "0.9185652983564084\n",
            "LightGBM REPORT-\n",
            "              precision    recall  f1-score   support\n",
            "\n",
            "           0       0.92      1.00      0.96     56677\n",
            "           1       0.61      0.03      0.05      5078\n",
            "\n",
            "    accuracy                           0.92     61755\n",
            "   macro avg       0.76      0.51      0.50     61755\n",
            "weighted avg       0.89      0.92      0.88     61755\n",
            "\n"
          ]
        }
      ],
      "source": [
        "print(\"LightGBM Accuracy-\")\n",
        "print(accuracy_score(y_test,y_pred_GBM))\n",
        "print(\"LightGBM REPORT-\")\n",
        "print(classification_report(y_test, y_pred_GBM))"
      ]
    },
    {
      "cell_type": "markdown",
      "id": "03f19a31",
      "metadata": {},
      "source": [
        "### CatBoost"
      ]
    },
    {
      "cell_type": "code",
      "execution_count": 52,
      "id": "12aa1128",
      "metadata": {},
      "outputs": [],
      "source": [
        "from catboost import CatBoostClassifier\n",
        "\n",
        "# Define the CatBoost model with default hyperparameters\n",
        "model = CatBoostClassifier(  # adjust class weights due to class imbalance\n",
        "    custom_metric=['Logloss'],  # use logloss to evaluate performance\n",
        "    verbose=False  # to avoid warning messages\n",
        ")\n",
        "\n",
        "# Train the model\n",
        "model.fit(X_train, y_train)\n",
        "\n",
        "# Make predictions on the test set\n",
        "y_pred_cat = model.predict(X_test)\n",
        "y_score_cat = model.predict_proba(X_test)[:, 1]"
      ]
    },
    {
      "cell_type": "code",
      "execution_count": 53,
      "id": "2c0ac49a",
      "metadata": {},
      "outputs": [
        {
          "name": "stdout",
          "output_type": "stream",
          "text": [
            "CatBoost Accuracy-\n",
            "0.917852805440855\n",
            "CatBoost REPORT-\n",
            "              precision    recall  f1-score   support\n",
            "\n",
            "           0       0.92      1.00      0.96     56677\n",
            "           1       0.51      0.05      0.09      5078\n",
            "\n",
            "    accuracy                           0.92     61755\n",
            "   macro avg       0.71      0.52      0.52     61755\n",
            "weighted avg       0.89      0.92      0.89     61755\n",
            "\n"
          ]
        }
      ],
      "source": [
        "print(\"CatBoost Accuracy-\")\n",
        "print(accuracy_score(y_test,y_pred_cat))\n",
        "print(\"CatBoost REPORT-\")\n",
        "print(classification_report(y_test, y_pred_cat))"
      ]
    },
    {
      "cell_type": "markdown",
      "id": "7e92a8c7",
      "metadata": {
        "id": "7e92a8c7",
        "papermill": {
          "duration": 0.082584,
          "end_time": "2023-08-23T14:10:32.679380",
          "exception": false,
          "start_time": "2023-08-23T14:10:32.596796",
          "status": "completed"
        },
        "tags": []
      },
      "source": [
        "# <span style=\"color:#E888BB; font-size: 1%;\">MODEL EVALUATION</span>\n",
        "<div style=\"padding: 35px;color:white;margin:10;font-size:170%;text-align:center;display:fill;border-radius:10px;overflow:hidden;background-image: url(https://images.pexels.com/photos/3683056/pexels-photo-3683056.jpeg?auto=compress&cs=tinysrgb&w=1260&h=750&dpr=1)\"><b><span style='color:black'>MODEL EVALUATION </span></b> </div>\n",
        "\n"
      ]
    },
    {
      "cell_type": "markdown",
      "id": "345e4552",
      "metadata": {
        "id": "345e4552",
        "papermill": {
          "duration": 0.082367,
          "end_time": "2023-08-23T14:10:33.135018",
          "exception": false,
          "start_time": "2023-08-23T14:10:33.052651",
          "status": "completed"
        },
        "tags": []
      },
      "source": [
        "### 🔍 Interpretation of Results:\n",
        "\n",
        "**Precision**: Out of all the instances that the model predicted as positive, how many are actually positive. A precision score of 0.97 for class 0 🚫 means that 97% of the instances that the model predicted as class 0 are actually class 0. Similarly, a precision score of 0.21 for class 1 ✅ means that only 21% of the instances that the model predicted as class 1 are actually class 1.\n",
        "\n",
        "**Recall**: Out of all the actual positive instances, how many the model correctly identified. A recall score of 0.74 for class 0 🚫 means that the model correctly identified 74% of all actual class 0 instances. Similarly, a recall score of 0.77 for class 1 ✅ means that the model correctly identified 77% of all actual class 1 instances.\n",
        "\n",
        "**F1-score**: The harmonic mean of precision and recall. An F1 score reaches its best value at 1 (perfect precision and recall) and worst at 0. It's a good way to summarize the evaluation of the model with a single number. 🎯\n",
        "\n",
        "**Support**: The number of actual instances for each class in the test data. 🔢\n",
        "\n",
        "**Accuracy**: The ratio of correct predictions to total predictions. An accuracy of 0.74 means that the model correctly predicted the class for 74% of all instances. ✔️\n",
        "\n",
        "**Macro avg**: The average precision, recall, or F1-score without considering the proportion for each class. 📊\n",
        "\n",
        "**Weighted avg**: The average precision, recall, or F1-score considering the proportion for each class. ⚖️\n",
        "\n",
        "<div class=\"warning\" style=\"background-color: #DDE6ED; border-left: 6px solid #27374D;font-size: 100%; padding: 10px;\">\n",
        "<h3 style=\"color: #27374D; font-size: 18px; margin-top: 0; margin-bottom: 10px;\">🔎  Here are some observations:</h3>\n",
        "    \n",
        "From the report, we can see that the model has high precision but lower recall for class 0 (probably the negative class), and low precision but higher recall for class 1 (probably the positive class). This means the model is more conservative in predicting class 1, but when it does, it's more likely to be correct. On the other hand, it predicts class 0 more frequently, but a significant number of them are false positives.\n",
        "\n",
        "</div>\n",
        "\n",
        "> The overall accuracy of the model is 0.74, which means it makes the correct prediction for 74% of the instances. However, the macro average F1 score is only 0.58, indicating that the model's performance isn't as good when we consider both classes equally, regardless of their imbalance.\n"
      ]
    },
    {
      "cell_type": "markdown",
      "id": "c6e79e94",
      "metadata": {
        "id": "c6e79e94",
        "papermill": {
          "duration": 0.084167,
          "end_time": "2023-08-23T14:10:33.305394",
          "exception": false,
          "start_time": "2023-08-23T14:10:33.221227",
          "status": "completed"
        },
        "tags": []
      },
      "source": [
        "## <div style=\"padding: 20px;color:white;margin:10;font-size:90%;text-align:left;display:fill;border-radius:10px;overflow:hidden;background-image: url(https://images.pexels.com/photos/3683041/pexels-photo-3683041.jpeg?auto=compress&cs=tinysrgb&w=1260&h=750&dpr=1)\"><b><span style='color:black'> Confusion Matrix </span></b> </div>"
      ]
    },
    {
      "cell_type": "code",
      "execution_count": 54,
      "id": "aa6e35a8",
      "metadata": {},
      "outputs": [
        {
          "data": {
            "image/png": "[encoded data removed]",
            "text/plain": [
              "<Figure size 1080x576 with 15 Axes>"
            ]
          },
          "metadata": {
            "needs_background": "light"
          },
          "output_type": "display_data"
        }
      ],
      "source": [
        "from sklearn.metrics import confusion_matrix, ConfusionMatrixDisplay\n",
        "import matplotlib.pyplot as plt\n",
        "\n",
        "# List of models and corresponding names\n",
        "\n",
        "model_names = ['vote','stack', 'rf', 'ext', 'xg', 'gbm', 'cat']\n",
        "y_list=[y_pred_vote,y_pred_stack ,y_pred_rand, y_pred_ext, y_pred_xg, y_pred_GBM, y_pred_cat]\n",
        "\n",
        "# Create subplots\n",
        "fig, axes = plt.subplots(2, 4, figsize=(15, 8))\n",
        "\n",
        "for i, model in enumerate(y_list):\n",
        "    # Make predictions on the test set\n",
        "    y_pred = model\n",
        "\n",
        "    # Compute the confusion matrix\n",
        "    cm = confusion_matrix(y_test, y_pred)\n",
        "\n",
        "    # Create a ConfusionMatrixDisplay object\n",
        "    disp = ConfusionMatrixDisplay(confusion_matrix=cm)\n",
        "\n",
        "    # Plot the confusion matrix in the i-th subplot\n",
        "    disp.plot(ax=axes[i // 4, i % 4])\n",
        "    axes[i // 4, i % 4].set_title(model_names[i])\n",
        "\n",
        "# Adjust subplot layout\n",
        "plt.tight_layout()\n",
        "plt.show()\n"
      ]
    },
    {
      "cell_type": "markdown",
      "id": "e63c5143",
      "metadata": {
        "id": "e63c5143",
        "papermill": {
          "duration": 0.082934,
          "end_time": "2023-08-23T14:10:34.119501",
          "exception": false,
          "start_time": "2023-08-23T14:10:34.036567",
          "status": "completed"
        },
        "tags": []
      },
      "source": [
        "### 🔍 Interpretation of Results:\n",
        "\n",
        "**True negatives (TN): 41881** - The model correctly predicted class 0 🚫 for these instances.\n",
        "\n",
        "**False positives (FP): 14796** - The model incorrectly predicted class 1 ✅ for these instances, which are actually class 0 🚫.\n",
        "\n",
        "**False negatives (FN): 1172** - The model incorrectly predicted class 0 🚫 for these instances, which are actually class 1 ✅.\n",
        "\n",
        "**True positives (TP): 3906** - The model correctly predicted class 1 ✅ for these instances.\n",
        "\n",
        "<div class=\"warning\" style=\"background-color: #E6ED; border-left: 6px solid #27374D;font-size: 100%; padding: 10px;\">\n",
        "<h3 style=\"color: #27374D; font-size: 18px; margin-top: 0; margin-bottom: 10px;\">🔎  Here are some observations:</h3>\n",
        "    \n",
        "This tells us that the model is reasonably good at identifying true negatives (class 0), but has quite a lot of false positives, i.e., it's predicting class 1 for many instances that are actually class 0. The model has a relatively small number of false negatives and a smaller number of true positives, indicating that it's more conservative in predicting class 1.\n",
        "\n",
        "</div>\n",
        "\n"
      ]
    }
  ],
  "metadata": {
    "colab": {
      "provenance": []
    },
    "kernelspec": {
      "display_name": "Python 3",
      "language": "python",
      "name": "python3"
    },
    "language_info": {
      "codemirror_mode": {
        "name": "ipython",
        "version": 3
      },
      "file_extension": ".py",
      "mimetype": "text/x-python",
      "name": "python",
      "nbconvert_exporter": "python",
      "pygments_lexer": "ipython3",
      "version": "3.10.4"
    },
    "papermill": {
      "default_parameters": {},
      "duration": 480.092839,
      "end_time": "2023-08-23T14:16:18.519803",
      "environment_variables": {},
      "exception": null,
      "input_path": "__notebook__.ipynb",
      "output_path": "__notebook__.ipynb",
      "parameters": {},
      "start_time": "2023-08-23T14:08:18.426964",
      "version": "2.4.0"
    }
  },
  "nbformat": 4,
  "nbformat_minor": 5
}
